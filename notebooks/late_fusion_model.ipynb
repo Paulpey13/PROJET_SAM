{
 "cells": [
  {
   "cell_type": "markdown",
   "metadata": {},
   "source": [
    "# Import"
   ]
  },
  {
   "cell_type": "code",
   "execution_count": 1,
   "metadata": {},
   "outputs": [
    {
     "name": "stdout",
     "output_type": "stream",
     "text": [
      "c:\\Users\\victo\\Documents\\GitHub\\PROJET_SAM\\notebooks\n"
     ]
    },
    {
     "name": "stderr",
     "output_type": "stream",
     "text": [
      "C:\\Users\\victo\\AppData\\Local\\Packages\\PythonSoftwareFoundation.Python.3.11_qbz5n2kfra8p0\\LocalCache\\local-packages\\Python311\\site-packages\\pydub\\utils.py:170: RuntimeWarning: Couldn't find ffmpeg or avconv - defaulting to ffmpeg, but may not work\n",
      "  warn(\"Couldn't find ffmpeg or avconv - defaulting to ffmpeg, but may not work\", RuntimeWarning)\n"
     ]
    },
    {
     "name": "stdout",
     "output_type": "stream",
     "text": [
      "c:\\Users\\victo\\Documents\\GitHub\\PROJET_SAM\\notebooks\n"
     ]
    },
    {
     "name": "stderr",
     "output_type": "stream",
     "text": [
      "C:\\Users\\victo\\AppData\\Local\\Packages\\PythonSoftwareFoundation.Python.3.11_qbz5n2kfra8p0\\LocalCache\\local-packages\\Python311\\site-packages\\tqdm\\auto.py:21: TqdmWarning: IProgress not found. Please update jupyter and ipywidgets. See https://ipywidgets.readthedocs.io/en/stable/user_install.html\n",
      "  from .autonotebook import tqdm as notebook_tqdm\n"
     ]
    }
   ],
   "source": [
    "import sys, os\n",
    "\n",
    "src = os.path.abspath(os.path.join(os.getcwd(), os.pardir))\n",
    "sys.path.append(src)\n",
    "\n",
    "from src.pipeline_late_fusion import *\n",
    "\n",
    "num_epochs=1\n",
    "seed=1\n",
    "model_name='test'\n",
    "patience=1\n",
    "\n",
    "#training_evaluate_model_audio_text_late(num_epochs,seed,model_name,patience,class_weight=[1.0,3.0],task=\"turn_after\",save=True,all_training=False)\n"
   ]
  },
  {
   "cell_type": "markdown",
   "metadata": {},
   "source": [
    " # Pipeline in 3 functions calling : "
   ]
  },
  {
   "cell_type": "markdown",
   "metadata": {},
   "source": [
    "# 1 Loading data"
   ]
  },
  {
   "cell_type": "code",
   "execution_count": 2,
   "metadata": {},
   "outputs": [
    {
     "name": "stdout",
     "output_type": "stream",
     "text": [
      "tache turn_after\n"
     ]
    },
    {
     "name": "stderr",
     "output_type": "stream",
     "text": [
      "C:\\Users\\victo\\AppData\\Local\\Packages\\PythonSoftwareFoundation.Python.3.11_qbz5n2kfra8p0\\LocalCache\\local-packages\\Python311\\site-packages\\librosa\\core\\spectrum.py:257: UserWarning: n_fft=2048 is too large for input signal of length=1920\n",
      "  warnings.warn(\n",
      "C:\\Users\\victo\\AppData\\Local\\Packages\\PythonSoftwareFoundation.Python.3.11_qbz5n2kfra8p0\\LocalCache\\local-packages\\Python311\\site-packages\\librosa\\core\\spectrum.py:257: UserWarning: n_fft=2048 is too large for input signal of length=1280\n",
      "  warnings.warn(\n",
      "C:\\Users\\victo\\AppData\\Local\\Packages\\PythonSoftwareFoundation.Python.3.11_qbz5n2kfra8p0\\LocalCache\\local-packages\\Python311\\site-packages\\librosa\\core\\spectrum.py:257: UserWarning: n_fft=2048 is too large for input signal of length=1120\n",
      "  warnings.warn(\n",
      "C:\\Users\\victo\\AppData\\Local\\Packages\\PythonSoftwareFoundation.Python.3.11_qbz5n2kfra8p0\\LocalCache\\local-packages\\Python311\\site-packages\\librosa\\core\\spectrum.py:257: UserWarning: n_fft=2048 is too large for input signal of length=1888\n",
      "  warnings.warn(\n",
      "C:\\Users\\victo\\AppData\\Local\\Packages\\PythonSoftwareFoundation.Python.3.11_qbz5n2kfra8p0\\LocalCache\\local-packages\\Python311\\site-packages\\librosa\\core\\spectrum.py:257: UserWarning: n_fft=2048 is too large for input signal of length=1408\n",
      "  warnings.warn(\n",
      "C:\\Users\\victo\\AppData\\Local\\Packages\\PythonSoftwareFoundation.Python.3.11_qbz5n2kfra8p0\\LocalCache\\local-packages\\Python311\\site-packages\\librosa\\core\\spectrum.py:257: UserWarning: n_fft=2048 is too large for input signal of length=1600\n",
      "  warnings.warn(\n",
      "C:\\Users\\victo\\AppData\\Local\\Packages\\PythonSoftwareFoundation.Python.3.11_qbz5n2kfra8p0\\LocalCache\\local-packages\\Python311\\site-packages\\librosa\\core\\spectrum.py:257: UserWarning: n_fft=2048 is too large for input signal of length=1312\n",
      "  warnings.warn(\n",
      "C:\\Users\\victo\\AppData\\Local\\Packages\\PythonSoftwareFoundation.Python.3.11_qbz5n2kfra8p0\\LocalCache\\local-packages\\Python311\\site-packages\\librosa\\core\\spectrum.py:257: UserWarning: n_fft=2048 is too large for input signal of length=960\n",
      "  warnings.warn(\n",
      "C:\\Users\\victo\\AppData\\Local\\Packages\\PythonSoftwareFoundation.Python.3.11_qbz5n2kfra8p0\\LocalCache\\local-packages\\Python311\\site-packages\\librosa\\core\\spectrum.py:257: UserWarning: n_fft=2048 is too large for input signal of length=992\n",
      "  warnings.warn(\n",
      "Special tokens have been added in the vocabulary, make sure the associated word embeddings are fine-tuned or trained.\n"
     ]
    }
   ],
   "source": [
    "task=\"turn_after\"\n",
    "seed=1\n",
    "\n",
    "train_loader_audio,val_loader_audio,test_loader_audio,train_loader_text,val_loader_text,test_loader_text=load_data_audio_text_late(seed,task)\n"
   ]
  },
  {
   "cell_type": "markdown",
   "metadata": {},
   "source": [
    "# 2 Training"
   ]
  },
  {
   "cell_type": "code",
   "execution_count": 3,
   "metadata": {},
   "outputs": [
    {
     "name": "stdout",
     "output_type": "stream",
     "text": [
      "Utilisation de l'appareil: cuda\n"
     ]
    },
    {
     "name": "stderr",
     "output_type": "stream",
     "text": [
      "C:\\Users\\victo\\AppData\\Local\\Packages\\PythonSoftwareFoundation.Python.3.11_qbz5n2kfra8p0\\LocalCache\\local-packages\\Python311\\site-packages\\transformers\\optimization.py:429: FutureWarning: This implementation of AdamW is deprecated and will be removed in a future version. Use the PyTorch implementation torch.optim.AdamW instead, or set `no_deprecation_warning=True` to disable this warning\n",
      "  warnings.warn(\n"
     ]
    }
   ],
   "source": [
    "\n",
    "num_epochs=1\n",
    "seed=1\n",
    "model_name='test'\n",
    "patience=1\n",
    "class_weight=[1.0,2.8]\n",
    "modele_addition=True\n",
    "all_training=False\n",
    "combine_model,model_audio,model_text=training_audio_text_late_model(num_epochs,seed,model_name,train_loader_audio,val_loader_audio,test_loader_audio,train_loader_text,val_loader_text,test_loader_text,patience,class_weight=class_weight,task=task,save=True,all_training=all_training,modele_addition=modele_addition)"
   ]
  },
  {
   "cell_type": "markdown",
   "metadata": {},
   "source": [
    "# 3 Evaluate model"
   ]
  },
  {
   "cell_type": "code",
   "execution_count": 4,
   "metadata": {},
   "outputs": [
    {
     "name": "stdout",
     "output_type": "stream",
     "text": [
      "addition\n",
      "addition\n",
      "addition\n",
      "addition\n",
      "addition\n",
      "addition\n",
      "addition\n",
      "addition\n",
      "addition\n",
      "addition\n",
      "addition\n",
      "addition\n",
      "addition\n",
      "addition\n",
      "addition\n",
      "addition\n",
      "addition\n",
      "addition\n",
      "addition\n",
      "addition\n",
      "addition\n",
      "addition\n",
      "addition\n",
      "addition\n",
      "addition\n",
      "addition\n",
      "addition\n",
      "addition\n",
      "addition\n",
      "addition\n",
      "addition\n",
      "addition\n",
      "addition\n",
      "addition\n",
      "addition\n",
      "addition\n",
      "addition\n",
      "addition\n",
      "addition\n",
      "addition\n",
      "addition\n",
      "addition\n",
      "addition\n",
      "addition\n",
      "addition\n",
      "addition\n",
      "addition\n",
      "addition\n",
      "addition\n",
      "addition\n",
      "addition\n",
      "addition\n",
      "addition\n",
      "addition\n",
      "addition\n",
      "addition\n",
      "addition\n",
      "addition\n",
      "addition\n",
      "addition\n",
      "addition\n",
      "addition\n",
      "addition\n",
      "addition\n",
      "addition\n",
      "addition\n",
      "addition\n",
      "addition\n",
      "addition\n",
      "addition\n",
      "addition\n",
      "addition\n",
      "addition\n",
      "addition\n",
      "addition\n",
      "addition\n",
      "addition\n",
      "addition\n",
      "addition\n",
      "addition\n",
      "addition\n",
      "addition\n",
      "addition\n",
      "addition\n",
      "addition\n",
      "addition\n",
      "addition\n",
      "addition\n",
      "addition\n",
      "addition\n",
      "addition\n",
      "addition\n",
      "addition\n",
      "addition\n",
      "addition\n",
      "addition\n",
      "addition\n",
      "addition\n",
      "addition\n",
      "addition\n",
      "addition\n",
      "addition\n",
      "addition\n",
      "addition\n",
      "addition\n",
      "addition\n",
      "addition\n",
      "addition\n",
      "addition\n",
      "addition\n",
      "addition\n",
      "addition\n",
      "addition\n",
      "addition\n",
      "addition\n",
      "addition\n",
      "addition\n",
      "addition\n",
      "addition\n",
      "addition\n",
      "addition\n",
      "addition\n",
      "addition\n",
      "addition\n",
      "addition\n",
      "addition\n",
      "addition\n",
      "addition\n",
      "addition\n",
      "addition\n",
      "addition\n",
      "addition\n",
      "addition\n",
      "addition\n",
      "addition\n",
      "addition\n",
      "addition\n",
      "addition\n",
      "addition\n",
      "addition\n",
      "addition\n",
      "addition\n",
      "addition\n",
      "addition\n",
      "addition\n",
      "addition\n",
      "addition\n",
      "addition\n",
      "addition\n",
      "addition\n",
      "addition\n",
      "addition\n",
      "addition\n",
      "addition\n",
      "addition\n",
      "addition\n",
      "addition\n",
      "addition\n",
      "addition\n",
      "addition\n",
      "addition\n",
      "addition\n",
      "addition\n",
      "addition\n",
      "addition\n",
      "addition\n",
      "addition\n",
      "addition\n",
      "addition\n",
      "addition\n",
      "addition\n",
      "addition\n",
      "addition\n",
      "addition\n",
      "addition\n",
      "addition\n",
      "addition\n",
      "addition\n",
      "addition\n",
      "addition\n",
      "addition\n",
      "addition\n",
      "addition\n",
      "addition\n",
      "addition\n",
      "addition\n",
      "addition\n",
      "addition\n",
      "addition\n",
      "addition\n",
      "addition\n",
      "addition\n",
      "addition\n",
      "addition\n",
      "addition\n",
      "addition\n",
      "addition\n",
      "addition\n",
      "addition\n",
      "addition\n",
      "addition\n",
      "addition\n",
      "addition\n",
      "addition\n",
      "addition\n",
      "Test F1 Score: 0.3459222769567597\n",
      "Matrice de confusion:\n",
      "[[1769  872]\n",
      " [ 323  316]]\n",
      "Nombre d'éléments de classe 0 détectés : 1769 sur 2641\n",
      "Nombre d'éléments de classe 1 détectés : 316 sur 639\n"
     ]
    },
    {
     "data": {
      "text/plain": [
       "(0.3459222769567597,\n",
       " array([[1769,  872],\n",
       "        [ 323,  316]], dtype=int64),\n",
       " 0.12397391679048497)"
      ]
     },
     "execution_count": 4,
     "metadata": {},
     "output_type": "execute_result"
    }
   ],
   "source": [
    "evaluate_model_audio_text_late(combine_model,model_audio,model_text,test_loader_audio,test_loader_text,modele_addition=modele_addition)"
   ]
  }
 ],
 "metadata": {
  "kernelspec": {
   "display_name": "Python 3",
   "language": "python",
   "name": "python3"
  },
  "language_info": {
   "codemirror_mode": {
    "name": "ipython",
    "version": 3
   },
   "file_extension": ".py",
   "mimetype": "text/x-python",
   "name": "python",
   "nbconvert_exporter": "python",
   "pygments_lexer": "ipython3",
   "version": "3.11.7"
  }
 },
 "nbformat": 4,
 "nbformat_minor": 2
}
