{
 "cells": [
  {
   "cell_type": "code",
   "execution_count": 1,
   "metadata": {},
   "outputs": [
    {
     "name": "stderr",
     "output_type": "stream",
     "text": [
      "C:\\Users\\victo\\AppData\\Local\\Packages\\PythonSoftwareFoundation.Python.3.11_qbz5n2kfra8p0\\LocalCache\\local-packages\\Python311\\site-packages\\tqdm\\auto.py:21: TqdmWarning: IProgress not found. Please update jupyter and ipywidgets. See https://ipywidgets.readthedocs.io/en/stable/user_install.html\n",
      "  from .autonotebook import tqdm as notebook_tqdm\n"
     ]
    },
    {
     "ename": "ModuleNotFoundError",
     "evalue": "No module named 'load_data'",
     "output_type": "error",
     "traceback": [
      "\u001b[1;31m---------------------------------------------------------------------------\u001b[0m",
      "\u001b[1;31mModuleNotFoundError\u001b[0m                       Traceback (most recent call last)",
      "Cell \u001b[1;32mIn[1], line 10\u001b[0m\n\u001b[0;32m      8\u001b[0m \u001b[38;5;28;01mfrom\u001b[39;00m \u001b[38;5;21;01msklearn\u001b[39;00m\u001b[38;5;21;01m.\u001b[39;00m\u001b[38;5;21;01mpreprocessing\u001b[39;00m \u001b[38;5;28;01mimport\u001b[39;00m LabelEncoder\n\u001b[0;32m      9\u001b[0m \u001b[38;5;28;01mimport\u001b[39;00m \u001b[38;5;21;01mtransformers\u001b[39;00m\n\u001b[1;32m---> 10\u001b[0m \u001b[38;5;28;01mimport\u001b[39;00m \u001b[38;5;21;01mload_data\u001b[39;00m\n\u001b[0;32m     11\u001b[0m \u001b[38;5;28;01mimport\u001b[39;00m \u001b[38;5;21;01mtorch\u001b[39;00m\n\u001b[0;32m     12\u001b[0m \u001b[38;5;28;01mfrom\u001b[39;00m \u001b[38;5;21;01mtorch\u001b[39;00m \u001b[38;5;28;01mimport\u001b[39;00m nn\n",
      "\u001b[1;31mModuleNotFoundError\u001b[0m: No module named 'load_data'"
     ]
    }
   ],
   "source": [
    "import torch\n",
    "import torch.nn as nn\n",
    "import torch.optim as optim\n",
    "from torch.utils.data import DataLoader, Dataset\n",
    "import pandas as pd\n",
    "from sklearn.model_selection import train_test_split\n",
    "from sklearn.metrics import f1_score\n",
    "from sklearn.preprocessing import LabelEncoder\n",
    "import transformers\n",
    "import load_data\n",
    "import torch\n",
    "from torch import nn\n",
    "from transformers import BertModel, BertTokenizer, CamembertModel, CamembertTokenizer\n",
    "import torch\n",
    "from torch.utils.data import Dataset, DataLoader\n",
    "from transformers import AdamW, get_linear_schedule_with_warmup\n",
    "from sklearn.metrics import f1_score\n",
    "import numpy as np\n",
    "import os\n",
    "from training_audio_model import *\n",
    "device=torch.device('cuda' if torch.cuda.is_available() else 'cpu') # GPU ou CPU\n",
    "print(torch.cuda.is_available())\n",
    "# Chargement des données\n",
    "transcr_path='../paco-cheese/transcr'\n",
    "data=load_data.load_all_ipus(folder_path=transcr_path,load_words=True)\n",
    "\n",
    "data[:20]"
   ]
  },
  {
   "cell_type": "code",
   "execution_count": 2,
   "metadata": {},
   "outputs": [
    {
     "data": {
      "text/plain": [
       "[0, 0, 0, 0, 0, 0, 0, 0, 0, 0, 0, 0, 1, 0, 0, 1, 1, 1, 0, 0]"
      ]
     },
     "execution_count": 2,
     "metadata": {},
     "output_type": "execute_result"
    }
   ],
   "source": [
    "from utils import *\n",
    "y=create_y(data)\n",
    "\n",
    "train_size = int(len(data) * 0.8)\n",
    "train_size=train_size\n",
    "X_train = data[:train_size]\n",
    "y_train = y[:train_size]\n",
    "\n",
    "\n",
    "X_test = data[train_size:]\n",
    "y_test = y[train_size:]\n",
    "\n",
    "y_test=y[train_size:]\n",
    "\n",
    "y_test[:20]"
   ]
  },
  {
   "cell_type": "code",
   "execution_count": 3,
   "metadata": {},
   "outputs": [],
   "source": [
    "def pred_y(df, x):\n",
    "    y = []\n",
    "    # Vérifiez que l'index i+1 est dans le range du dataframe pour éviter le KeyError\n",
    "    df = df.reset_index(drop=True)\n",
    "    for i in range(len(df)):\n",
    "        if i + 1 in df.index:\n",
    "            # Calculer le temps d'attente jusqu'à ce que la parole suivante commence\n",
    "            wait_time = df.loc[i + 1, 'start_words'] - df.loc[i, 'stop_words']\n",
    "            # Vérifiez si le temps d'attente est supérieur à x secondes et si le locuteur change\n",
    "            if wait_time > x:\n",
    "                y.append(1)  # Il y a un changement de parole et l'attente est plus longue que x secondes\n",
    "            else:\n",
    "                y.append(0)  # Pas de changement de locuteur significatif ou pas de changement de locuteur\n",
    "        else:\n",
    "            y.append(0)  # Pas de locuteur suivant à comparer, donc on ajoute 0\n",
    "    return y\n",
    "\n",
    "# Crée une liste de label en fonction d'une fenêtre temporelle\n",
    "def create_y_time(df, window_time):\n",
    "    y = [0] \n",
    "    for i in range(0, len(df)-1):\n",
    "        j = i + 1\n",
    "        stop = False\n",
    "        while j < len(df) and df['start_words'][j] < df['stop_words'][i] + window_time and not stop:\n",
    "            if df['speaker'][i] != df['speaker'][j]:\n",
    "                y.append(1)  # Changement de locuteur\n",
    "                stop = True\n",
    "            j += 1\n",
    "        if not stop:\n",
    "            y.append(0)  # Pas de changement de locuteur dans la fenêtre de temps\n",
    "    return y\n",
    "\n",
    "\n",
    "\n",
    "y_pred=pred_y(X_test, 0.9)\n"
   ]
  },
  {
   "cell_type": "code",
   "execution_count": 5,
   "metadata": {},
   "outputs": [
    {
     "name": "stdout",
     "output_type": "stream",
     "text": [
      "Test F1 Score: 0.12061591103507271\n",
      "Confusion Matrix:\n",
      "[[19912   418]\n",
      " [ 1638   141]]\n",
      "Nombre d'éléments de classe 0 détectés : 19912 sur 20330\n",
      "Nombre d'éléments de classe 1 détectés : 141 sur 1779\n"
     ]
    }
   ],
   "source": [
    "f1 = f1_score(y_test,y_pred)#, average='weighted')\n",
    "conf_matrix = confusion_matrix(y_test, y_pred)\n",
    "print(f'Test F1 Score: {f1}')\n",
    "print(f'Confusion Matrix:\\n{conf_matrix}')\n",
    "\n",
    "# Calculer et afficher les informations spécifiques\n",
    "total_class_0 = np.sum(conf_matrix[0])\n",
    "total_class_1 = np.sum(conf_matrix[1])\n",
    "detected_class_0 = conf_matrix[0, 0]  # Vrais positifs pour la classe 0\n",
    "detected_class_1 = conf_matrix[1, 1]  # Vrais positifs pour la classe 1\n",
    "\n",
    "print(f'Nombre d\\'éléments de classe 0 détectés : {detected_class_0} sur {total_class_0}')\n",
    "print(f'Nombre d\\'éléments de classe 1 détectés : {detected_class_1} sur {total_class_1}')\n"
   ]
  },
  {
   "cell_type": "code",
   "execution_count": null,
   "metadata": {},
   "outputs": [],
   "source": []
  }
 ],
 "metadata": {
  "kernelspec": {
   "display_name": "Python 3",
   "language": "python",
   "name": "python3"
  },
  "language_info": {
   "codemirror_mode": {
    "name": "ipython",
    "version": 3
   },
   "file_extension": ".py",
   "mimetype": "text/x-python",
   "name": "python",
   "nbconvert_exporter": "python",
   "pygments_lexer": "ipython3",
   "version": "3.11.7"
  }
 },
 "nbformat": 4,
 "nbformat_minor": 2
}
