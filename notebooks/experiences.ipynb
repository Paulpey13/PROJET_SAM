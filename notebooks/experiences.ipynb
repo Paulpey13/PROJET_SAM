{
 "cells": [
  {
   "cell_type": "code",
   "execution_count": 12,
   "metadata": {},
   "outputs": [],
   "source": [
    "import sys, os\n",
    "\n",
    "src = os.path.abspath(os.path.join(os.getcwd(), os.pardir))\n",
    "sys.path.append(src)\n",
    "\n",
    "from src.pipeline_late_fusion import *\n",
    "from src.pipeline_early_fusion import *\n",
    "from src.pipeline_audio_model import *\n",
    "from src.pipeline_text_model import *\n",
    "import json"
   ]
  },
  {
   "cell_type": "markdown",
   "metadata": {},
   "source": [
    "# Déclaration des seeds"
   ]
  },
  {
   "cell_type": "code",
   "execution_count": 13,
   "metadata": {},
   "outputs": [],
   "source": [
    "seeds=range(10)"
   ]
  },
  {
   "cell_type": "markdown",
   "metadata": {},
   "source": [
    "# Lecture des résultats"
   ]
  },
  {
   "cell_type": "code",
   "execution_count": 14,
   "metadata": {},
   "outputs": [
    {
     "name": "stdout",
     "output_type": "stream",
     "text": [
      "audio\n",
      "f1_test mean 0.3523829918910283\n",
      "f1_test median 0.3568815307205897\n",
      "kappa_test mean 0.12591323056288717\n",
      "kappa_test median 0.12459236809830021\n",
      "texte\n",
      "f1_test mean 0.3033999138701885\n",
      "f1_test median 0.35752334172596056\n",
      "kappa_test mean 0.11017629330518945\n",
      "kappa_test median 0.1254948164829402\n",
      "late\n",
      "f1_test mean 0.3541635075813985\n",
      "f1_test median 0.355239841294608\n",
      "kappa_test mean 0.13744180737845496\n",
      "kappa_test median 0.13894850560507876\n",
      "early\n",
      "f1_test mean 0.3580282517489661\n",
      "f1_test median 0.36330332093690876\n",
      "kappa_test mean 0.12463224211193577\n",
      "kappa_test median 0.12724423349338398\n"
     ]
    }
   ],
   "source": [
    "import json\n",
    "import numpy as np\n",
    "modele=\"audio\"\n",
    "\n",
    "def print_results(modele):\n",
    "    f1_test=[]\n",
    "    kappa_test=[]\n",
    "    for seed in range(10):\n",
    "        path=f\"../experiences/{modele}/SEED_\"+str(seed)+\"/\"\n",
    "        with open(path+\"results.json\", \"r\") as f:\n",
    "            results = f.read()\n",
    "            results_dict = json.loads(results)\n",
    "            f1_test.append(float(results_dict[\"f1_score_test\"]))\n",
    "            kappa_test.append(float(results_dict[\"kappa_test\"]))\n",
    "            \n",
    "\n",
    "\n",
    "    f1_test=np.array(f1_test)\n",
    "    kappa_test=np.array(kappa_test)\n",
    "    print(\"f1_test mean\",np.mean(f1_test)\n",
    "    )\n",
    "    print(\"f1_test median\",np.median(f1_test))\n",
    "\n",
    "    \n",
    "    print(\"kappa_test mean\",np.mean(kappa_test)\n",
    "    )\n",
    "    print(\"kappa_test median\",np.median(kappa_test))\n",
    "    \n",
    "          \n",
    "print(\"audio\")         \n",
    "print_results(\"audio\")  \n",
    "\n",
    "print(\"texte\")         \n",
    "print_results(\"texte\")  \n",
    "\n",
    "print(\"late\")         \n",
    "print_results(\"late\")  \n",
    "\n",
    "\n",
    "print(\"early\")         \n",
    "print_results(\"early\")  "
   ]
  },
  {
   "cell_type": "markdown",
   "metadata": {},
   "source": [
    "# Texte "
   ]
  },
  {
   "cell_type": "code",
   "execution_count": null,
   "metadata": {},
   "outputs": [],
   "source": [
    "\n",
    "model_name='exp'\n",
    "patience=3\n",
    "num_epochs=1\n",
    "model_name='test'\n",
    "class_weight=[1.0,3.6]\n",
    "task=\"turn_after\"\n",
    "\n",
    "f1_score_train_text=[]\n",
    "f1_score_test_text=[]\n",
    "conf_matrix_train_text=[]\n",
    "conf_matrix_test_text=[]\n",
    "kappa_test_text=[]\n",
    "kappa_train_text=[]\n",
    "for seed in seeds:\n",
    "    if os.path.exists(f\"../experiences/texte/SEED_{seed}\")==False:\n",
    "        os.mkdir(f\"../experiences/texte/SEED_{seed}\")\n",
    "        \n",
    "    f1_train,conf_train,kappa_train,f1_test,conf_test,kappa_test=training_eval_model_text(num_epochs,seed,model_name,patience,class_weight,task,save=False)\n",
    "    f1_score_train_text.append(f1_train)\n",
    "    f1_score_test_text.append(f1_test)\n",
    "    conf_matrix_train_text.append(conf_train)\n",
    "    conf_matrix_test_text.append(conf_test)\n",
    "    kappa_test_text.append(kappa_test)\n",
    "    kappa_train_text.append(kappa_train)\n",
    "    \n",
    "    #stockage des résultats\n",
    "        #stockage des résultats\n",
    "    results = {\n",
    "    \"f1_score_train\": f1_train,\n",
    "    \"f1_score_test\": f1_test,\n",
    "    \"conf_matrix_train\": conf_train.tolist() if isinstance(conf_train, np.ndarray) else conf_train,\n",
    "    \"conf_matrix_test\": conf_test.tolist() if isinstance(conf_test, np.ndarray) else conf_test,\n",
    "    \"kappa_test\": kappa_test,\n",
    "    \"kappa_train\": kappa_train\n",
    "}\n",
    " \n",
    "    with open(f\"../experiences/texte/SEED_{seed}/results.json\", 'w') as outfile:\n",
    "        json.dump(results, outfile)\n",
    "    "
   ]
  },
  {
   "cell_type": "markdown",
   "metadata": {},
   "source": [
    "# Audio"
   ]
  },
  {
   "cell_type": "code",
   "execution_count": null,
   "metadata": {},
   "outputs": [],
   "source": [
    "num_epochs=5\n",
    "model_name='test'\n",
    "patience=20\n",
    "class_weight=[1.0,4.0] # attention float\n",
    "task=\"turn_after\"\n",
    "save=True\n",
    "f1_score_train_audio=[]\n",
    "f1_score_test_audio=[]\n",
    "conf_matrix_train_audio=[]\n",
    "conf_matrix_test_audio=[]\n",
    "kappa_test_audio=[]\n",
    "kappa_train_audio=[]\n",
    "for seed in seeds:\n",
    "    \n",
    "    if os.path.exists(f\"../experiences/audio/SEED_{seed}\")==False:\n",
    "        os.mkdir(f\"../experiences/audio/SEED_{seed}\")\n",
    "        \n",
    "    f1_train,conf_train,kappa_train,f1_test,conf_test,kappa_test=training_eval_model_audio(num_epochs,seed,model_name,patience,class_weight,task,save=True)\n",
    "    f1_score_train_audio.append(f1_train)\n",
    "    f1_score_test_audio.append(f1_test)\n",
    "    conf_matrix_train_audio.append(conf_train)\n",
    "    conf_matrix_test_audio.append(conf_test)\n",
    "    kappa_test_audio.append(kappa_test)\n",
    "    kappa_train_audio.append(kappa_train)\n",
    "    \n",
    "    #stockage des résultats\n",
    "    results = {\n",
    "    \"f1_score_train\": f1_train,\n",
    "    \"f1_score_test\": f1_test,\n",
    "    \"conf_matrix_train\": conf_train.tolist() if isinstance(conf_train, np.ndarray) else conf_train,\n",
    "    \"conf_matrix_test\": conf_test.tolist() if isinstance(conf_test, np.ndarray) else conf_test,\n",
    "    \"kappa_test\": kappa_test,\n",
    "    \"kappa_train\": kappa_train\n",
    "}\n",
    "    \n",
    "    with open(f\"../experiences/audio/SEED_{seed}/results.json\", 'w') as fp:\n",
    "        json.dump(results, fp)\n",
    "    "
   ]
  },
  {
   "cell_type": "markdown",
   "metadata": {},
   "source": [
    "# Early "
   ]
  },
  {
   "cell_type": "code",
   "execution_count": null,
   "metadata": {},
   "outputs": [],
   "source": [
    "patience=3\n",
    "save=False\n",
    "model_name=\"exp\"\n",
    "\n",
    "num_epochs=3\n",
    "patience=1\n",
    "class_weight=[1.0,5.1]\n",
    "task=\"turn_after\"\n",
    "save=True\n",
    "f1_score_train_early=[]\n",
    "f1_score_test_early=[]\n",
    "conf_matrix_train_early=[]\n",
    "conf_matrix_test_early=[]\n",
    "kappa_test_early=[]\n",
    "kappa_train_early=[]\n",
    "for seed in seeds:\n",
    "    if os.path.exists(f\"../experiences/early/SEED_{seed}\")==False:\n",
    "        os.mkdir(f\"../experiences/early/SEED_{seed}\")\n",
    "    f1_train,conf_train,kappa_train,f1_test,conf_test,kappa_test=training_evaluate_model_audio_text_early(num_epochs,seed,model_name,patience,class_weight,task,save=True)\n",
    "    f1_score_train_early.append(f1_train)\n",
    "    f1_score_test_early.append(f1_test)\n",
    "    conf_matrix_train_early.append(conf_train)\n",
    "    conf_matrix_test_early.append(conf_test)\n",
    "    kappa_test_early.append(kappa_test)\n",
    "    kappa_train_early.append(kappa_train)\n",
    "    \n",
    "    #stockage des résultats\n",
    "    results = {\n",
    "    \"f1_score_train\": f1_train,\n",
    "    \"f1_score_test\": f1_test,\n",
    "    \"conf_matrix_train\": conf_train.tolist() if isinstance(conf_train, np.ndarray) else conf_train,\n",
    "    \"conf_matrix_test\": conf_test.tolist() if isinstance(conf_test, np.ndarray) else conf_test,\n",
    "    \"kappa_test\": kappa_test,\n",
    "    \"kappa_train\": kappa_train\n",
    "}\n",
    "    with open(f\"../experiences/early/SEED_{seed}/results.json\", 'w') as fp:\n",
    "        json.dump(results, fp)\n",
    "    "
   ]
  },
  {
   "cell_type": "markdown",
   "metadata": {},
   "source": [
    "# Late\n"
   ]
  },
  {
   "cell_type": "code",
   "execution_count": null,
   "metadata": {},
   "outputs": [],
   "source": [
    "patience=3\n",
    "class_weight=[1.0,3.0]\n",
    "task=\"turn_after\"\n",
    "save=False\n",
    "model_name=\"exp\"\n",
    "num_epochs=1\n",
    "save=False\n",
    "all_training=True # on entraine à chaque fois car la seed fait changer les données d'entrainement\n",
    "f1_score_train_late=[]\n",
    "f1_score_test_late=[]\n",
    "conf_matrix_train_late=[]\n",
    "conf_matrix_test_late=[]\n",
    "kappa_test_late=[]\n",
    "kappa_train_late=[]\n",
    "for seed in range(10):\n",
    "    if os.path.exists(f\"../experiences/late/SEED_{seed}\")==False:\n",
    "        os.mkdir(f\"../experiences/late/SEED_{seed}\")\n",
    "    f1_train,conf_train,kappa_train,f1_test,conf_test,kappa_test=training_evaluate_model_audio_text_late(num_epochs,seed,model_name,patience,class_weight,task,save,all_training=False,modele_addition=True)\n",
    "    f1_score_train_late.append(f1_train)\n",
    "    f1_score_test_late.append(f1_test)\n",
    "    conf_matrix_train_late.append(conf_train)\n",
    "    conf_matrix_test_late.append(conf_test)\n",
    "    kappa_test_late.append(kappa_test)\n",
    "    kappa_train_late.append(kappa_train)\n",
    "    \n",
    "    #stockage des résultats\n",
    "    results = {\n",
    "    \"f1_score_train\": f1_train,\n",
    "    \"f1_score_test\": f1_test,\n",
    "    \"conf_matrix_train\": conf_train.tolist() if isinstance(conf_train, np.ndarray) else conf_train,\n",
    "    \"conf_matrix_test\": conf_test.tolist() if isinstance(conf_test, np.ndarray) else conf_test,\n",
    "    \"kappa_test\": kappa_test,\n",
    "    \"kappa_train\": kappa_train\n",
    "}\n",
    "    with open(f\"../experiences/late/SEED_{seed}/results.json\", 'w') as fp:\n",
    "        json.dump(results, fp)\n",
    "    "
   ]
  }
 ],
 "metadata": {
  "kernelspec": {
   "display_name": "Python 3",
   "language": "python",
   "name": "python3"
  },
  "language_info": {
   "codemirror_mode": {
    "name": "ipython",
    "version": 3
   },
   "file_extension": ".py",
   "mimetype": "text/x-python",
   "name": "python",
   "nbconvert_exporter": "python",
   "pygments_lexer": "ipython3",
   "version": "3.11.7"
  }
 },
 "nbformat": 4,
 "nbformat_minor": 2
}
