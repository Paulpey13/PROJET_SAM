{
 "cells": [
  {
   "cell_type": "code",
   "execution_count": 1,
   "metadata": {},
   "outputs": [
    {
     "name": "stdout",
     "output_type": "stream",
     "text": [
      "c:\\Users\\victo\\Documents\\GitHub\\PROJET_SAM\\notebooks\n"
     ]
    },
    {
     "name": "stderr",
     "output_type": "stream",
     "text": [
      "C:\\Users\\victo\\AppData\\Local\\Packages\\PythonSoftwareFoundation.Python.3.11_qbz5n2kfra8p0\\LocalCache\\local-packages\\Python311\\site-packages\\pydub\\utils.py:170: RuntimeWarning: Couldn't find ffmpeg or avconv - defaulting to ffmpeg, but may not work\n",
      "  warn(\"Couldn't find ffmpeg or avconv - defaulting to ffmpeg, but may not work\", RuntimeWarning)\n",
      "C:\\Users\\victo\\AppData\\Local\\Packages\\PythonSoftwareFoundation.Python.3.11_qbz5n2kfra8p0\\LocalCache\\local-packages\\Python311\\site-packages\\tqdm\\auto.py:21: TqdmWarning: IProgress not found. Please update jupyter and ipywidgets. See https://ipywidgets.readthedocs.io/en/stable/user_install.html\n",
      "  from .autonotebook import tqdm as notebook_tqdm\n"
     ]
    },
    {
     "name": "stdout",
     "output_type": "stream",
     "text": [
      "c:\\Users\\victo\\Documents\\GitHub\\PROJET_SAM\\notebooks\n",
      "c:\\Users\\victo\\Documents\\GitHub\\PROJET_SAM\\notebooks\n",
      "c:\\Users\\victo\\Documents\\GitHub\\PROJET_SAM\\notebooks\n"
     ]
    }
   ],
   "source": [
    "import sys, os\n",
    "\n",
    "src = os.path.abspath(os.path.join(os.getcwd(), os.pardir))\n",
    "sys.path.append(src)\n",
    "\n",
    "from src.pipeline_late_fusion import *\n",
    "from src.pipeline_early_fusion import *\n",
    "from src.pipeline_audio_model import *\n",
    "from src.pipeline_text_model import *\n",
    "import json"
   ]
  },
  {
   "cell_type": "markdown",
   "metadata": {},
   "source": [
    "# Déclaration des seeds"
   ]
  },
  {
   "cell_type": "code",
   "execution_count": 2,
   "metadata": {},
   "outputs": [],
   "source": [
    "seeds=range(1)"
   ]
  },
  {
   "cell_type": "markdown",
   "metadata": {},
   "source": [
    "# Texte "
   ]
  },
  {
   "cell_type": "code",
   "execution_count": 5,
   "metadata": {},
   "outputs": [
    {
     "name": "stderr",
     "output_type": "stream",
     "text": [
      "Special tokens have been added in the vocabulary, make sure the associated word embeddings are fine-tuned or trained.\n"
     ]
    },
    {
     "name": "stdout",
     "output_type": "stream",
     "text": [
      "Utilisation de l'appareil: cuda\n"
     ]
    },
    {
     "name": "stderr",
     "output_type": "stream",
     "text": [
      "Some weights of CamembertForSequenceClassification were not initialized from the model checkpoint at camembert-base and are newly initialized: ['classifier.out_proj.bias', 'classifier.dense.weight', 'classifier.out_proj.weight', 'classifier.dense.bias']\n",
      "You should probably TRAIN this model on a down-stream task to be able to use it for predictions and inference.\n",
      "C:\\Users\\victo\\AppData\\Local\\Packages\\PythonSoftwareFoundation.Python.3.11_qbz5n2kfra8p0\\LocalCache\\local-packages\\Python311\\site-packages\\transformers\\optimization.py:429: FutureWarning: This implementation of AdamW is deprecated and will be removed in a future version. Use the PyTorch implementation torch.optim.AdamW instead, or set `no_deprecation_warning=True` to disable this warning\n",
      "  warnings.warn(\n"
     ]
    },
    {
     "name": "stdout",
     "output_type": "stream",
     "text": [
      "Epoch 0\n"
     ]
    }
   ],
   "source": [
    "num_epochs=1\n",
    "model_name='exp'\n",
    "patience=3\n",
    "class_weight=[1.0,3.0]\n",
    "task=\"turn_after\"\n",
    "\n",
    "f1_score_train_text=[]\n",
    "f1_score_test_text=[]\n",
    "conf_matrix_train_text=[]\n",
    "conf_matrix_test_text=[]\n",
    "kappa_test_text=[]\n",
    "kappa_train_text=[]\n",
    "for seed in seeds:\n",
    "    if os.path.exists(f\"../experiences/texte/SEED_{seed}\")==False:\n",
    "        os.mkdir(f\"../experiences/texte/SEED_{seed}\")\n",
    "        \n",
    "    f1_train,conf_train,kapp_train,f1_test,conf_test,kappa_test=training_eval_model_text(num_epochs,seed,model_name,patience,class_weight,task,save=False)\n",
    "    f1_score_train_text.append(f1_train)\n",
    "    f1_score_test_text.append(f1_test)\n",
    "    conf_matrix_train_text.append(conf_train)\n",
    "    conf_matrix_test_text.append(conf_test)\n",
    "    kappa_test_text.append(kappa_test)\n",
    "    kappa_train_text.append(kapp_train)\n",
    "    \n",
    "    #stockage des résultats\n",
    "    results={\"f1_score_train\":f1_train,\"f1_score_test\":f1_test,\"conf_matrix_train\":conf_train,\"conf_matrix_test\":conf_test,\"kappa_test\":kappa_test,\"kappa_train\":kappa_train}\n",
    "    with open(f\"../experiences/texte/SEED_{seed}/results.json\", 'w') as outfile:\n",
    "        json.dump(results, outfile)\n",
    "    "
   ]
  },
  {
   "cell_type": "markdown",
   "metadata": {},
   "source": [
    "# Audio"
   ]
  },
  {
   "cell_type": "code",
   "execution_count": null,
   "metadata": {},
   "outputs": [],
   "source": [
    "patience=3\n",
    "class_weight=[1.0,3.0]\n",
    "task=\"turn_after\"\n",
    "save=False\n",
    "model_name=\"exp\"\n",
    "num_epochs=20\n",
    "f1_score_train_audio=[]\n",
    "f1_score_test_audio=[]\n",
    "conf_matrix_train_audio=[]\n",
    "conf_matrix_test_audio=[]\n",
    "kappa_test_audio=[]\n",
    "kappa_train_audio=[]\n",
    "for i in seed:\n",
    "    \n",
    "    if os.path.exists(f\"../experiences/audio/SEED_{seed}\")==False:\n",
    "        os.mkdir(f\"../experiences/audio/SEED_{seed}\")\n",
    "        \n",
    "    f1_train,conf_train,kappa_train,f1_test,conf_test,kappa_test=training_eval_model_audio(num_epochs,seed,model_name,patience,class_weight,task,save=True)\n",
    "    f1_score_train_audio.append(f1_train)\n",
    "    f1_score_test_audio.append(f1_test)\n",
    "    conf_matrix_train_audio.append(conf_train)\n",
    "    conf_matrix_test_audio.append(conf_test)\n",
    "    kappa_test_audio.append(kappa_test)\n",
    "    kappa_train_audio.append(kappa_train)\n",
    "    \n",
    "    #stockage des résultats\n",
    "    results={\"f1_score_train\":f1_train,\"f1_score_test\":f1_test,\"conf_matrix_train\":conf_train,\"conf_matrix_test\":conf_test,\"kappa_test\":kappa_test,\"kappa_train\":kappa_train}\n",
    "    with open(f\"../experiences/audio/SEED_{seed}/results.json\", 'w') as fp:\n",
    "        json.dump(results, fp)\n",
    "    "
   ]
  },
  {
   "cell_type": "markdown",
   "metadata": {},
   "source": [
    "# Early "
   ]
  },
  {
   "cell_type": "code",
   "execution_count": null,
   "metadata": {},
   "outputs": [],
   "source": [
    "patience=3\n",
    "class_weight=[1.0,3.0]\n",
    "task=\"turn_after\"\n",
    "save=False\n",
    "model_name=\"exp\"\n",
    "num_epochs=1\n",
    "f1_score_train_early=[]\n",
    "f1_score_test_early=[]\n",
    "conf_matrix_train_early=[]\n",
    "conf_matrix_test_early=[]\n",
    "kappa_test_early=[]\n",
    "kappa_train_early=[]\n",
    "for i in seed:\n",
    "    if os.path.exists(f\"../experiences/early/SEED_{seed}\")==False:\n",
    "        os.mkdir(f\"../experiences/early/SEED_{seed}\")\n",
    "    f1_train,conf_train,kappa_train,f1_test,conf_test,kappa_test=training_evaluate_model_audio_text_early(num_epochs,seed,model_name,patience,class_weight,task,save=True)\n",
    "    f1_score_train_early.append(f1_train)\n",
    "    f1_score_test_early.append(f1_test)\n",
    "    conf_matrix_train_early.append(conf_train)\n",
    "    conf_matrix_test_early.append(conf_test)\n",
    "    kappa_test_early.append(kappa_test)\n",
    "    kappa_train_early.append(kappa_train)\n",
    "    \n",
    "    #stockage des résultats\n",
    "    results={\"f1_score_train\":f1_train,\"f1_score_test\":f1_test,\"conf_matrix_train\":conf_train,\"conf_matrix_test\":conf_test,\"kappa_test\":kappa_test,\"kappa_train\":kappa_train}\n",
    "    with open(f\"../experiences/early/SEED_{seed}/results.json\", 'w') as fp:\n",
    "        json.dump(results, fp)\n",
    "    "
   ]
  },
  {
   "cell_type": "markdown",
   "metadata": {},
   "source": [
    "# Late\n"
   ]
  },
  {
   "cell_type": "code",
   "execution_count": null,
   "metadata": {},
   "outputs": [],
   "source": [
    "patience=3\n",
    "class_weight=[1.0,3.0]\n",
    "task=\"turn_after\"\n",
    "save=False\n",
    "model_name=\"exp\"\n",
    "num_epochs=1\n",
    "save=False\n",
    "all_training=False\n",
    "f1_score_train_late=[]\n",
    "f1_score_test_late=[]\n",
    "conf_matrix_train_late=[]\n",
    "conf_matrix_test_late=[]\n",
    "kappa_test_late=[]\n",
    "kappa_train_late=[]\n",
    "for seed in seeds:\n",
    "    if os.path.exists(f\"../experiences/late/SEED_{seed}\")==False:\n",
    "        os.mkdir(f\"../experiences/late/SEED_{seed}\")\n",
    "    f1_train,conf_train,kappa_train,f1_test,conf_test,kappa_test=training_evaluate_model_audio_text_late(num_epochs,seed,model_name,patience,class_weight,task,save,all_training)\n",
    "    f1_score_train_late.append(f1_train)\n",
    "    f1_score_test_late.append(f1_test)\n",
    "    conf_matrix_train_late.append(conf_train)\n",
    "    conf_matrix_test_late.append(conf_test)\n",
    "    kappa_test_late.append(kappa_test)\n",
    "    kappa_train_late.append(kappa_train)\n",
    "    \n",
    "    #stockage des résultats\n",
    "    results={\"f1_score_train\":f1_train,\"f1_score_test\":f1_test,\"conf_matrix_train\":conf_train,\"conf_matrix_test\":conf_test,\"kappa_test\":kappa_test,\"kappa_train\":kappa_train}\n",
    "    with open(f\"../experiences/late/SEED_{seed}/results.json\", 'w') as fp:\n",
    "        json.dump(results, fp)\n",
    "    "
   ]
  },
  {
   "cell_type": "code",
   "execution_count": null,
   "metadata": {},
   "outputs": [],
   "source": []
  }
 ],
 "metadata": {
  "kernelspec": {
   "display_name": "Python 3",
   "language": "python",
   "name": "python3"
  },
  "language_info": {
   "codemirror_mode": {
    "name": "ipython",
    "version": 3
   },
   "file_extension": ".py",
   "mimetype": "text/x-python",
   "name": "python",
   "nbconvert_exporter": "python",
   "pygments_lexer": "ipython3",
   "version": "3.11.7"
  }
 },
 "nbformat": 4,
 "nbformat_minor": 2
}
