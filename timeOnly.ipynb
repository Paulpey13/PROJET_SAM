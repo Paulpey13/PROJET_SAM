{
 "cells": [
  {
   "cell_type": "code",
   "execution_count": null,
   "metadata": {},
   "outputs": [],
   "source": [
    "# Import necessary libraries\n",
    "import os\n",
    "import torch\n",
    "import pandas as pd\n",
    "from torch import nn\n",
    "from torch.utils.data import DataLoader, Dataset\n",
    "from sklearn.model_selection import train_test_split\n",
    "from sklearn.metrics import f1_score\n",
    "from sklearn.preprocessing import LabelEncoder\n",
    "from transformers import BertModel, BertTokenizer, CamembertModel, CamembertTokenizer, AdamW, get_linear_schedule_with_warmup\n",
    "\n",
    "# Import custom modules\n",
    "import load_data\n",
    "from training_audio_model import *\n",
    "from utils import *\n",
    "\n",
    "# Set device to GPU if available, else CPU\n",
    "device = torch.device('cuda' if torch.cuda.is_available() else 'cpu')\n",
    "print(torch.cuda.is_available())\n",
    "\n",
    "# Specify the path to the transcription data\n",
    "transcr_path = 'paco-cheese/transcr'\n",
    "\n",
    "# Load the data using the custom load_data module\n",
    "data = load_data.load_all_ipus(folder_path=transcr_path, load_words=True)\n",
    "\n",
    "# Display the first 20 rows of the data\n",
    "data[:20]"
   ]
  },
  {
   "cell_type": "code",
   "execution_count": null,
   "metadata": {},
   "outputs": [],
   "source": [
    "# Create the target variable y using the custom function create_y\n",
    "y = create_y(data)\n",
    "\n",
    "# Calculate the size of the training set as 80% of the total data\n",
    "train_size = int(len(data) * 0.8)\n",
    "\n",
    "# Split the data into training and test sets\n",
    "X_train = data[:train_size]\n",
    "y_train = y[:train_size]\n",
    "X_test = data[train_size:]\n",
    "y_test = y[train_size:]\n",
    "\n",
    "# Display the first 20 elements of the test target variable\n",
    "y_test[:20]"
   ]
  },
  {
   "cell_type": "code",
   "execution_count": null,
   "metadata": {},
   "outputs": [],
   "source": [
    "# Define a function to predict the target variable y\n",
    "def pred_y(df, x):\n",
    "    y = []\n",
    "    # Reset the index of the dataframe to avoid KeyError\n",
    "    df = df.reset_index(drop=True)\n",
    "    for i in range(len(df)):\n",
    "        # Check if the index i+1 is within the range of the dataframe\n",
    "        if i + 1 in df.index:\n",
    "            # Calculate the waiting time until the next speech starts\n",
    "            wait_time = df.loc[i + 1, 'start_words'] - df.loc[i, 'stop_words']\n",
    "            # Check if the waiting time is longer than x seconds and if the speaker changes\n",
    "            if wait_time > x:\n",
    "                y.append(1)  # There is a change of speech and the waiting time is longer than x seconds\n",
    "            else:\n",
    "                y.append(0)  # No significant speaker change or no speaker change\n",
    "        else:\n",
    "            y.append(0)  # No next speaker to compare, so append 0\n",
    "    return y\n",
    "\n",
    "# Predict the target variable y for the test set using the custom function pred_y\n",
    "y_pred = pred_y(X_test, 0.9)"
   ]
  },
  {
   "cell_type": "code",
   "execution_count": null,
   "metadata": {},
   "outputs": [],
   "source": [
    "# Calculate the F1 score for the test set\n",
    "f1 = f1_score(y_test,y_pred, average='weighted')\n",
    "\n",
    "# Calculate the confusion matrix for the test set\n",
    "conf_matrix = confusion_matrix(y_test, y_pred)\n",
    "\n",
    "# Print the F1 score and confusion matrix\n",
    "print(f'Test F1 Score: {f1}')\n",
    "print(f'Confusion Matrix:\\n{conf_matrix}')\n",
    "\n",
    "# Calculate the total number of instances for each class\n",
    "total_class_0 = np.sum(conf_matrix[0])\n",
    "total_class_1 = np.sum(conf_matrix[1])\n",
    "\n",
    "# Calculate the number of correctly detected instances for each class\n",
    "detected_class_0 = conf_matrix[0, 0]  # True positives for class 0\n",
    "detected_class_1 = conf_matrix[1, 1]  # True positives for class 1\n",
    "\n",
    "# Print the number of correctly detected instances for each class\n",
    "print(f'Number of class 0 instances detected: {detected_class_0} out of {total_class_0}')\n",
    "print(f'Number of class 1 instances detected: {detected_class_1} out of {total_class_1}')"
   ]
  }
 ],
 "metadata": {
  "kernelspec": {
   "display_name": "Python 3",
   "language": "python",
   "name": "python3"
  },
  "language_info": {
   "codemirror_mode": {
    "name": "ipython",
    "version": 3
   },
   "file_extension": ".py",
   "mimetype": "text/x-python",
   "name": "python",
   "nbconvert_exporter": "python",
   "pygments_lexer": "ipython3",
   "version": "3.11.7"
  }
 },
 "nbformat": 4,
 "nbformat_minor": 2
}
