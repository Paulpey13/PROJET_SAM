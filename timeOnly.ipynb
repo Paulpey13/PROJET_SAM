{
 "cells": [
  {
   "cell_type": "code",
   "execution_count": 1,
   "metadata": {},
   "outputs": [],
   "source": [
    "import torch\n",
    "import torch.nn as nn\n",
    "import torch.optim as optim\n",
    "from torch.utils.data import DataLoader, Dataset\n",
    "import pandas as pd\n",
    "from sklearn.model_selection import train_test_split\n",
    "from sklearn.metrics import f1_score\n",
    "from sklearn.preprocessing import LabelEncoder\n",
    "import transformers\n",
    "import load_data\n",
    "import torch\n",
    "from torch import nn\n",
    "from transformers import BertModel, BertTokenizer, CamembertModel, CamembertTokenizer\n",
    "import torch\n",
    "from torch.utils.data import Dataset, DataLoader\n",
    "from transformers import AdamW, get_linear_schedule_with_warmup\n",
    "from sklearn.metrics import f1_score\n",
    "import numpy as np\n",
    "import os\n",
    "from training_audio_model import *\n",
    "device=torch.device('cuda' if torch.cuda.is_available() else 'cpu') # GPU ou CPU\n",
    "print(torch.cuda.is_available())\n",
    "# Chargement des données\n",
    "transcr_path='paco-cheese/transcr'\n",
    "data=load_data.load_all_ipus(folder_path=transcr_path,load_words=True)\n",
    "\n",
    "data[:20]"
   ]
  },
  {
   "cell_type": "code",
   "execution_count": null,
   "metadata": {},
   "outputs": [
    {
     "data": {
      "text/plain": [
       "[0, 0, 0, 0, 0, 0, 0, 0, 0, 0, 0, 0, 1, 0, 0, 1, 1, 1, 0, 0]"
      ]
     },
     "execution_count": 2,
     "metadata": {},
     "output_type": "execute_result"
    }
   ],
   "source": [
    "from utils import *\n",
    "y=create_y(data)\n",
    "\n",
    "train_size = int(len(data) * 0.8)\n",
    "train_size=train_size\n",
    "X_train = data[:train_size]\n",
    "y_train = y[:train_size]\n",
    "\n",
    "\n",
    "X_test = data[train_size:]\n",
    "y_test = y[train_size:]\n",
    "\n",
    "y_test=y[train_size:]\n",
    "\n",
    "y_test[:20]"
   ]
  },
  {
   "cell_type": "code",
   "execution_count": null,
   "metadata": {},
   "outputs": [],
   "source": [
    "def pred_y(df, x):\n",
    "    y = []\n",
    "    # Vérifiez que l'index i+1 est dans le range du dataframe pour éviter le KeyError\n",
    "    df = df.reset_index(drop=True)\n",
    "    for i in range(len(df)):\n",
    "        if i + 1 in df.index:\n",
    "            # Calculer le temps d'attente jusqu'à ce que la parole suivante commence\n",
    "            wait_time = df.loc[i + 1, 'start_words'] - df.loc[i, 'stop_words']\n",
    "            # Vérifiez si le temps d'attente est supérieur à x secondes et si le locuteur change\n",
    "            if wait_time > x:\n",
    "                y.append(1)  # Il y a un changement de parole et l'attente est plus longue que x secondes\n",
    "            else:\n",
    "                y.append(0)  # Pas de changement de locuteur significatif ou pas de changement de locuteur\n",
    "        else:\n",
    "            y.append(0)  # Pas de locuteur suivant à comparer, donc on ajoute 0\n",
    "    return y\n",
    "\n",
    "\n",
    "\n",
    "\n",
    "y_pred=pred_y(X_test, 0.9)\n"
   ]
  },
  {
   "cell_type": "code",
   "execution_count": null,
   "metadata": {},
   "outputs": [
    {
     "name": "stdout",
     "output_type": "stream",
     "text": [
      "Test F1 Score: 0.8840979790845577\n",
      "Confusion Matrix:\n",
      "[[19912   418]\n",
      " [ 1638   141]]\n",
      "Nombre d'éléments de classe 0 détectés : 19912 sur 20330\n",
      "Nombre d'éléments de classe 1 détectés : 141 sur 1779\n"
     ]
    }
   ],
   "source": [
    "f1 = f1_score(y_test,y_pred, average='weighted')\n",
    "conf_matrix = confusion_matrix(y_test, y_pred)\n",
    "print(f'Test F1 Score: {f1}')\n",
    "print(f'Confusion Matrix:\\n{conf_matrix}')\n",
    "\n",
    "# Calculer et afficher les informations spécifiques\n",
    "total_class_0 = np.sum(conf_matrix[0])\n",
    "total_class_1 = np.sum(conf_matrix[1])\n",
    "detected_class_0 = conf_matrix[0, 0]  # Vrais positifs pour la classe 0\n",
    "detected_class_1 = conf_matrix[1, 1]  # Vrais positifs pour la classe 1\n",
    "\n",
    "print(f'Nombre d\\'éléments de classe 0 détectés : {detected_class_0} sur {total_class_0}')\n",
    "print(f'Nombre d\\'éléments de classe 1 détectés : {detected_class_1} sur {total_class_1}')\n"
   ]
  },
  {
   "cell_type": "code",
   "execution_count": null,
   "metadata": {},
   "outputs": [],
   "source": []
  }
 ],
 "metadata": {
  "kernelspec": {
   "display_name": "Python 3",
   "language": "python",
   "name": "python3"
  },
  "language_info": {
   "codemirror_mode": {
    "name": "ipython",
    "version": 3
   },
   "file_extension": ".py",
   "mimetype": "text/x-python",
   "name": "python",
   "nbconvert_exporter": "python",
   "pygments_lexer": "ipython3",
   "version": "3.11.7"
  }
 },
 "nbformat": 4,
 "nbformat_minor": 2
}
