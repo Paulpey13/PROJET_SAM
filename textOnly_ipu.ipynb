{
 "cells": [
  {
   "cell_type": "code",
   "execution_count": null,
   "metadata": {},
   "outputs": [],
   "source": [
    "# Import necessary libraries\n",
    "import os\n",
    "import torch\n",
    "import numpy as np\n",
    "import pandas as pd\n",
    "from torch import nn\n",
    "from torch.utils.data import DataLoader, Dataset\n",
    "from sklearn.model_selection import train_test_split\n",
    "from sklearn.metrics import f1_score, confusion_matrix\n",
    "from sklearn.preprocessing import LabelEncoder\n",
    "from transformers import BertModel, BertTokenizer, CamembertModel, CamembertTokenizer, AdamW, get_linear_schedule_with_warmup, CamembertForSequenceClassification\n",
    "\n",
    "# Import custom modules\n",
    "import load_data\n",
    "from utils_ipu import *\n",
    "from training_text_model_ipu import *\n",
    "\n",
    "# Set device to GPU if available, else CPU\n",
    "device = torch.device('cuda' if torch.cuda.is_available() else 'cpu')\n",
    "print(torch.cuda.is_available())\n",
    "\n",
    "# Specify the path to the transcription data\n",
    "transcr_path = 'paco-cheese/transcr'\n",
    "\n",
    "# Load the data using the custom load_data module\n",
    "data = load_data.load_all_ipus(folder_path=transcr_path, load_words=True)"
   ]
  },
  {
   "cell_type": "code",
   "execution_count": null,
   "metadata": {},
   "outputs": [],
   "source": [
    "data[275:285]"
   ]
  },
  {
   "cell_type": "markdown",
   "metadata": {},
   "source": [
    "# creation des y à prédire"
   ]
  },
  {
   "cell_type": "code",
   "execution_count": null,
   "metadata": {},
   "outputs": [],
   "source": [
    "# Convert the data to a pandas DataFrame\n",
    "df = pd.DataFrame(data)\n",
    "\n",
    "# Create the target variable y using the custom function create_y\n",
    "y = create_y(df)\n",
    "\n",
    "# Display the first 3 rows of the DataFrame\n",
    "df[:3]"
   ]
  },
  {
   "cell_type": "code",
   "execution_count": null,
   "metadata": {},
   "outputs": [],
   "source": [
    "# Create sequences from the DataFrame using the custom function create_sequences\n",
    "features = create_sequences(df)\n",
    "\n",
    "# Set the random seed for reproducibility\n",
    "seed = 42\n",
    "\n",
    "# Split the data into training and test sets\n",
    "X_train, X_test, y_train, y_test = train_test_split(features, y, test_size=0.2, random_state=seed)\n",
    "\n",
    "# Print the number of training and test sequences\n",
    "print(f\"Number of training sequences: {len(X_train)}, labels: {len(y_train)}\")\n",
    "print(f\"Number of test sequences: {len(X_test)}, labels: {len(y_test)}\")"
   ]
  },
  {
   "cell_type": "code",
   "execution_count": null,
   "metadata": {},
   "outputs": [],
   "source": [
    "# Display\n",
    "print(X_train)\n",
    "print(y_train[365:375])"
   ]
  },
  {
   "cell_type": "markdown",
   "metadata": {},
   "source": []
  },
  {
   "cell_type": "code",
   "execution_count": null,
   "metadata": {},
   "outputs": [],
   "source": [
    "# Set parameters\n",
    "model_name = 'camembert-base'  # The name of the pre-trained model to use\n",
    "max_length = 256  # The maximum length of the sequences\n",
    "batch_size = 16  # The size of the batches for training\n",
    "epochs = 3  # The number of epochs for training\n",
    "device = torch.device('cuda' if torch.cuda.is_available() else 'cpu')  # Set device to GPU if available, else CPU\n",
    "\n",
    "# Initialize the tokenizer for CamemBERT\n",
    "tokenizer = CamembertTokenizer.from_pretrained(model_name)\n",
    "\n",
    "# Create the datasets and dataloaders for training and testing\n",
    "train_dataset = TextDataset(X_train, y_train, tokenizer, max_length)  # Create the training dataset\n",
    "train_loader = DataLoader(train_dataset, batch_size=batch_size, shuffle=True)  # Create the training dataloader\n",
    "\n",
    "test_dataset = TextDataset(X_test, y_test, tokenizer, max_length)  # Create the test dataset\n",
    "test_loader = DataLoader(test_dataset, batch_size=batch_size, shuffle=False)  # Create the test dataloader"
   ]
  },
  {
   "cell_type": "code",
   "execution_count": null,
   "metadata": {},
   "outputs": [],
   "source": [
    "# Display\n",
    "print(len(X_train))\n",
    "print(len(y_train))"
   ]
  },
  {
   "cell_type": "markdown",
   "metadata": {},
   "source": [
    "# Entrainement"
   ]
  },
  {
   "cell_type": "code",
   "execution_count": null,
   "metadata": {},
   "outputs": [],
   "source": [
    "# Initialize the CamemBERT model for sequence classification\n",
    "model = CamembertForSequenceClassification.from_pretrained(model_name, num_labels=2)\n",
    "model.to(device)\n",
    "\n",
    "# Define the path to save the model\n",
    "model_save_path = 'modele'\n",
    "# Create the directory if it does not exist\n",
    "if not os.path.exists(model_save_path):\n",
    "    os.makedirs(model_save_path)\n",
    "\n",
    "# Initialize the optimizer and learning rate\n",
    "optimizer = AdamW(model.parameters(), lr=2e-5)\n",
    "total_steps = len(train_loader) * epochs\n",
    "scheduler = get_linear_schedule_with_warmup(\n",
    "    optimizer,\n",
    "    num_warmup_steps=0,\n",
    "    num_training_steps=total_steps\n",
    ")\n",
    "\n",
    "# Set the class weights and loss function\n",
    "class_weights = torch.tensor([1.0, 2], device=device)\n",
    "loss_fn = nn.CrossEntropyLoss(weight=class_weights)\n",
    "\n",
    "# Define a function to train the model for one epoch\n",
    "def train_epoch(model, data_loader, optimizer, device, scheduler, loss_fn):\n",
    "    model.train()\n",
    "    losses = []\n",
    "    correct_predictions = 0\n",
    "\n",
    "    for d in data_loader:\n",
    "        input_ids = d[\"input_ids\"].to(device)\n",
    "        attention_mask = d[\"attention_mask\"].to(device)\n",
    "        labels = d[\"labels\"].to(device)\n",
    "\n",
    "        model.zero_grad()\n",
    "        outputs = model(input_ids=input_ids, attention_mask=attention_mask)\n",
    "        loss = loss_fn(outputs.logits, labels)\n",
    "        \n",
    "        _, preds = torch.max(outputs.logits, dim=1)\n",
    "        correct_predictions += torch.sum(preds == labels)\n",
    "        losses.append(loss.item())\n",
    "        loss.backward()\n",
    "        nn.utils.clip_grad_norm_(model.parameters(), max_norm=1.0)\n",
    "        optimizer.step()\n",
    "        scheduler.step()\n",
    "\n",
    "    return correct_predictions.double() / len(data_loader.dataset), np.mean(losses)\n",
    "\n",
    "# Train the model for the specified number of epochs\n",
    "for epoch in range(3):\n",
    "    print(f'Epoch {epoch + 1}/{epochs}')\n",
    "    print('-' * 10)\n",
    "\n",
    "    train_acc, train_loss = train_epoch(\n",
    "        model,\n",
    "        train_loader,\n",
    "        optimizer,\n",
    "        device,\n",
    "        scheduler,\n",
    "        loss_fn\n",
    "    )\n",
    "\n",
    "    print(f'Train loss {train_loss} accuracy {train_acc}')\n",
    "    save_file_path = os.path.join(model_save_path, f'camembert_ipu_epoch_{epoch+1}.bin')\n",
    "    torch.save(model, save_file_path)"
   ]
  },
  {
   "cell_type": "markdown",
   "metadata": {},
   "source": [
    "# score f1 et confusion matrix sur le test"
   ]
  },
  {
   "cell_type": "code",
   "execution_count": null,
   "metadata": {},
   "outputs": [],
   "source": [
    "# Initialize an empty list for the predictions and labels\n",
    "all_preds_text = []\n",
    "all_labels = []\n",
    "\n",
    "# Load the trained model\n",
    "model= torch.load('modele/camembert_ipu_epoch_1.bin')\n",
    "\n",
    "# Set the model to evaluation mode\n",
    "model.eval()\n",
    "\n",
    "# Get the predictions and labels using the custom function prediction_model_text\n",
    "all_preds_text, all_labels = prediction_model_text(model, test_loader, device, proba=False)\n",
    "\n",
    "# Calculate the F1 score for the test set\n",
    "f1 = f1_score(all_labels, all_preds_text)\n",
    "\n",
    "# Calculate the confusion matrix for the test set\n",
    "conf_matrix = confusion_matrix(all_labels, all_preds_text)\n",
    "\n",
    "# Print the F1 score and confusion matrix\n",
    "print(f'Test F1 Score: {f1}')\n",
    "print(f'Confusion Matrix:\\n{conf_matrix}')\n",
    "\n",
    "# Calculate the total number of instances for each class\n",
    "total_class_0 = np.sum(conf_matrix[0])\n",
    "total_class_1 = np.sum(conf_matrix[1])\n",
    "\n",
    "# Calculate the number of correctly detected instances for each class\n",
    "detected_class_0 = conf_matrix[0, 0]  # True positives for class 0\n",
    "detected_class_1 = conf_matrix[1, 1]  # True positives for class 1\n",
    "\n",
    "# Print the number of correctly detected instances for each class\n",
    "print(f'Number of class 0 instances detected: {detected_class_0} out of {total_class_0}')\n",
    "print(f'Number of class 1 instances detected: {detected_class_1} out of {total_class_1}')"
   ]
  },
  {
   "cell_type": "markdown",
   "metadata": {},
   "source": [
    "# prédictions sur quelques données afin de voir ce qu'il se passe : "
   ]
  },
  {
   "cell_type": "code",
   "execution_count": null,
   "metadata": {},
   "outputs": [],
   "source": [
    "# Initialize the tokenizer for CamemBERT\n",
    "tokenizer = CamembertTokenizer.from_pretrained('camembert-base')\n",
    "\n",
    "# Initialize an empty list for the probabilities\n",
    "all_probs = []\n",
    "\n",
    "# Select a subset of the training data\n",
    "data = X_train[273:277]\n",
    "\n",
    "# Disable gradient calculations\n",
    "with torch.no_grad():\n",
    "    for sentence in data:\n",
    "        # Print the sentence\n",
    "        print(sentence)\n",
    "        \n",
    "        # Tokenize the sentence and convert to tensors\n",
    "        inputs = tokenizer(sentence, return_tensors='pt', padding=True, truncation=True, max_length=512)\n",
    "        input_ids = inputs['input_ids'].to(device)\n",
    "        attention_mask = inputs['attention_mask'].to(device)\n",
    "\n",
    "        # Get the model outputs\n",
    "        outputs = model(input_ids=input_ids, attention_mask=attention_mask)\n",
    "        logits = outputs.logits\n",
    "        \n",
    "        # Calculate the probabilities\n",
    "        probs = torch.softmax(logits, dim=1)\n",
    "        all_probs.append(probs.cpu().numpy())\n",
    "\n",
    "        # Print the model outputs\n",
    "        print(outputs)"
   ]
  }
 ],
 "metadata": {
  "kernelspec": {
   "display_name": "Python 3",
   "language": "python",
   "name": "python3"
  },
  "language_info": {
   "codemirror_mode": {
    "name": "ipython",
    "version": 3
   },
   "file_extension": ".py",
   "mimetype": "text/x-python",
   "name": "python",
   "nbconvert_exporter": "python",
   "pygments_lexer": "ipython3",
   "version": "3.11.7"
  }
 },
 "nbformat": 4,
 "nbformat_minor": 2
}
